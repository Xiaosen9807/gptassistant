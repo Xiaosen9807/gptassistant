{
 "cells": [
  {
   "cell_type": "code",
   "execution_count": 5,
   "id": "a006f74b-bfc6-4216-8683-740a804b0b55",
   "metadata": {
    "tags": []
   },
   "outputs": [],
   "source": [
    "import os\n",
    "import openai\n",
    "import GPTlib as f\n",
    "\n",
    "openai.api_key = os.getenv(\"OPENAI_API_KEY\")\n",
    "\n",
    "filename = '../comments/messages.txt'\n",
    "\n",
    "prompt = f.extract_last_prompt_and_answer(filename)\n",
    "\n",
    "response = openai.Completion.create(\n",
    "  model=\"text-davinci-003\",\n",
    "  prompt=prompt,\n",
    "  temperature=0.45,\n",
    "  max_tokens=3749,\n",
    "  top_p=1,\n",
    "  frequency_penalty=0,\n",
    "  presence_penalty=0\n",
    ")\n",
    "\n",
    "f.add_response_to_file(filename, response)"
   ]
  },
  {
   "cell_type": "code",
   "execution_count": 4,
   "id": "7f6f2919-c247-490b-8029-23494b7ee3bd",
   "metadata": {
    "tags": []
   },
   "outputs": [
    {
     "name": "stdout",
     "output_type": "stream",
     "text": [
      "{\n",
      "  \"choices\": [\n",
      "    {\n",
      "      \"finish_reason\": \"stop\",\n",
      "      \"index\": 0,\n",
      "      \"logprobs\": null,\n",
      "      \"text\": \"\\nYou can run a function from a Python file in the command line by using the following syntax:\\n\\npython <filename>.py <functionname> <arguments>\\n\\nFor example, if you have a Python file called myfile.py with a function called myfunction that takes two arguments, you could run it from the command line like this:\\n\\npython myfile.py myfunction arg1 arg2\"\n",
      "    }\n",
      "  ],\n",
      "  \"created\": 1681289640,\n",
      "  \"id\": \"cmpl-74QWm4O8d8fm1Bn0vwuq02Rb6nizw\",\n",
      "  \"model\": \"text-davinci-003\",\n",
      "  \"object\": \"text_completion\",\n",
      "  \"usage\": {\n",
      "    \"completion_tokens\": 86,\n",
      "    \"prompt_tokens\": 24,\n",
      "    \"total_tokens\": 110\n",
      "  }\n",
      "}\n"
     ]
    }
   ],
   "source": [
    "print(response)"
   ]
  },
  {
   "cell_type": "code",
   "execution_count": 5,
   "id": "cf1f47b9-0c40-4214-a433-85a07bbed828",
   "metadata": {
    "tags": []
   },
   "outputs": [
    {
     "name": "stdout",
     "output_type": "stream",
     "text": [
      "31\n"
     ]
    }
   ],
   "source": [
    "print(response.usage.total_tokens)"
   ]
  },
  {
   "cell_type": "code",
   "execution_count": 2,
   "id": "2c0bf0e5-8adf-46fe-8e77-4072a483ee1b",
   "metadata": {
    "tags": []
   },
   "outputs": [],
   "source": [
    "x = range(0,6,-1)\n",
    "\n",
    "for n in x:\n",
    "  print(n)"
   ]
  },
  {
   "cell_type": "code",
   "execution_count": null,
   "id": "333dd1c9-d726-469f-bc2e-51475f52eb7f",
   "metadata": {},
   "outputs": [],
   "source": []
  }
 ],
 "metadata": {
  "kernelspec": {
   "display_name": "Python 3 (ipykernel)",
   "language": "python",
   "name": "python3"
  },
  "language_info": {
   "codemirror_mode": {
    "name": "ipython",
    "version": 3
   },
   "file_extension": ".py",
   "mimetype": "text/x-python",
   "name": "python",
   "nbconvert_exporter": "python",
   "pygments_lexer": "ipython3",
   "version": "3.11.0"
  }
 },
 "nbformat": 4,
 "nbformat_minor": 5
}
